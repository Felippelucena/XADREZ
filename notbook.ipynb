{
 "cells": [
  {
   "cell_type": "code",
   "execution_count": 16,
   "metadata": {},
   "outputs": [
    {
     "name": "stdout",
     "output_type": "stream",
     "text": [
      "[[[0, 0, 0], [0, 0, 0], [0, 0, 0]], [[1, 0, 0], [0, 0, 0], [0, 0, 0]], [[1, 1, 0], [0, 0, 0], [0, 0, 0]], [[1, 1, 0], [0, 0, 0], [0, 0, 0]]]\n"
     ]
    }
   ],
   "source": [
    "import copy\n",
    "\n",
    "tabuleiro = [[0, 0, 0], [0, 0, 0], [0, 0, 0]]\n",
    "historico = []\n",
    "historico.append(copy.deepcopy(tabuleiro))  # Cria uma cópia profunda da lista tabuleiro\n",
    "tabuleiro[0][0] = 1\n",
    "historico.append(copy.deepcopy(tabuleiro))  # Cria uma nova cópia modificada da lista tabuleiro\n",
    "tabuleiro[0][1] = 1\n",
    "historico.append(copy.deepcopy(tabuleiro))  # Cria uma nova cópia modificada da lista tabuleiro\n",
    "tabuleiro[0][2] = 0\n",
    "historico.append(copy.deepcopy(tabuleiro))  # Cria uma nova cópia modificada da lista tabuleiro\n",
    "print(historico)"
   ]
  }
 ],
 "metadata": {
  "kernelspec": {
   "display_name": "Python 3",
   "language": "python",
   "name": "python3"
  },
  "language_info": {
   "codemirror_mode": {
    "name": "ipython",
    "version": 3
   },
   "file_extension": ".py",
   "mimetype": "text/x-python",
   "name": "python",
   "nbconvert_exporter": "python",
   "pygments_lexer": "ipython3",
   "version": "3.12.1"
  }
 },
 "nbformat": 4,
 "nbformat_minor": 2
}
