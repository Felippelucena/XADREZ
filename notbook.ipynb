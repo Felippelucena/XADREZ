{
 "cells": [
  {
   "cell_type": "code",
   "execution_count": 1,
   "metadata": {},
   "outputs": [
    {
     "name": "stdout",
     "output_type": "stream",
     "text": [
      "[[[0, 0, 0], [0, 0, 0], [0, 0, 0]], [[1, 0, 0], [0, 0, 0], [0, 0, 0]], [[1, 1, 0], [0, 0, 0], [0, 0, 0]], [[1, 1, 1], [0, 0, 0], [0, 0, 0]]]\n"
     ]
    }
   ],
   "source": [
    "'''import copy\n",
    "\n",
    "tabuleiro = [[0, 0, 0], [0, 0, 0], [0, 0, 0]]\n",
    "historico = []\n",
    "historico.append(copy.deepcopy(tabuleiro))  # Cria uma cópia profunda da lista tabuleiro\n",
    "tabuleiro[0][0] = 1\n",
    "historico.append(copy.deepcopy(tabuleiro))  # Cria uma nova cópia modificada da lista tabuleiro\n",
    "tabuleiro[0][1] = 1\n",
    "historico.append(copy.deepcopy(tabuleiro))  # Cria uma nova cópia modificada da lista tabuleiro\n",
    "tabuleiro[0][2] = 1\n",
    "historico.append(copy.deepcopy(tabuleiro))  # Cria uma nova cópia modificada da lista tabuleiro\n",
    "print(historico)'''"
   ]
  },
  {
   "cell_type": "code",
   "execution_count": 6,
   "metadata": {},
   "outputs": [
    {
     "name": "stdout",
     "output_type": "stream",
     "text": [
      "[[0, 0, 0], [0, 0, 0], [0, 0, 0]]\n",
      "[[1, 1, 0], [0, 0, 0], [0, 0, 0]]\n"
     ]
    }
   ],
   "source": [
    "class Tabuleiro:\n",
    "    def __init__ (self):\n",
    "        self.tabuleiro = [[0, 0, 0],\n",
    "                          [0, 0, 0],\n",
    "                          [0, 0, 0]]\n",
    "\n",
    "class Jogador:\n",
    "    def __init__ (self):\n",
    "        self.nome = 'felippe'\n",
    "    \n",
    "    def mover (self, tabuleiro, x, y):\n",
    "        tabuleiro[x][y] = 1\n",
    "        \n",
    "\n",
    "tabuleiro = Tabuleiro()\n",
    "jogador = Jogador()\n",
    "print(tabuleiro.tabuleiro)\n",
    "jogador.mover(tabuleiro.tabuleiro, 0, 0)\n",
    "jogador.mover(tabuleiro.tabuleiro, 0, 1)\n",
    "\n",
    "print(tabuleiro.tabuleiro)"
   ]
  }
 ],
 "metadata": {
  "kernelspec": {
   "display_name": "Python 3",
   "language": "python",
   "name": "python3"
  },
  "language_info": {
   "codemirror_mode": {
    "name": "ipython",
    "version": 3
   },
   "file_extension": ".py",
   "mimetype": "text/x-python",
   "name": "python",
   "nbconvert_exporter": "python",
   "pygments_lexer": "ipython3",
   "version": "3.12.1"
  }
 },
 "nbformat": 4,
 "nbformat_minor": 2
}
